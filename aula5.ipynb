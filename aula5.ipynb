{
 "cells": [
  {
   "cell_type": "markdown",
   "metadata": {},
   "source": [
    "https://www.youtube.com/watch?v=BNeOE1qMyRA"
   ]
  },
  {
   "cell_type": "markdown",
   "metadata": {},
   "source": [
    "# Funções Lambda"
   ]
  },
  {
   "cell_type": "code",
   "execution_count": 3,
   "metadata": {},
   "outputs": [],
   "source": [
    "soma = lambda x, y: x + y"
   ]
  },
  {
   "cell_type": "code",
   "execution_count": 7,
   "metadata": {},
   "outputs": [],
   "source": [
    "igualdade = lambda x, y: x==y"
   ]
  },
  {
   "cell_type": "code",
   "execution_count": 6,
   "metadata": {},
   "outputs": [
    {
     "data": {
      "text/plain": [
       "5"
      ]
     },
     "execution_count": 6,
     "metadata": {},
     "output_type": "execute_result"
    }
   ],
   "source": [
    "a = 2\n",
    "b = 3\n",
    "\n",
    "soma(a, b)"
   ]
  },
  {
   "cell_type": "code",
   "execution_count": 9,
   "metadata": {},
   "outputs": [
    {
     "data": {
      "text/plain": [
       "True"
      ]
     },
     "execution_count": 9,
     "metadata": {},
     "output_type": "execute_result"
    }
   ],
   "source": [
    "igualdade(a, 2)"
   ]
  },
  {
   "cell_type": "code",
   "execution_count": 5,
   "metadata": {},
   "outputs": [
    {
     "data": {
      "text/plain": [
       "7"
      ]
     },
     "execution_count": 5,
     "metadata": {},
     "output_type": "execute_result"
    }
   ],
   "source": [
    "soma(1,6)"
   ]
  },
  {
   "cell_type": "code",
   "execution_count": 11,
   "metadata": {},
   "outputs": [],
   "source": [
    "soma_um = lambda x: [i + 1 for i in x]"
   ]
  },
  {
   "cell_type": "code",
   "execution_count": 12,
   "metadata": {},
   "outputs": [
    {
     "data": {
      "text/plain": [
       "[2, 3, 4, 5]"
      ]
     },
     "execution_count": 12,
     "metadata": {},
     "output_type": "execute_result"
    }
   ],
   "source": [
    "c = [1, 2, 3, 4]\n",
    "\n",
    "soma_um(c)"
   ]
  },
  {
   "cell_type": "markdown",
   "metadata": {},
   "source": [
    "# Map\n",
    "A função map recebe uma função e uma coleção. Ela irá aplicar a função recebida sobre cada um dos elementos da coleção, retornando uma nova coleção com os retornos de cada uma dessas chamadas.\n",
    "\n",
    "Em Python, a função map retorna um iterador, então cabe a nós convertê-lo para uma estrutura caso necessário, como lista ou tupla."
   ]
  },
  {
   "cell_type": "code",
   "execution_count": 14,
   "metadata": {},
   "outputs": [
    {
     "name": "stdout",
     "output_type": "stream",
     "text": [
      "('1.0', '3.7', '5.4') (1.0, 3.7, 5.4)\n"
     ]
    }
   ],
   "source": [
    "tupla_str = ('1.0', '3.7', '5.4')\n",
    "tupla_float = tuple(map(float, tupla_str)) # função: float; coleção: tupla_str\n",
    "print(tupla_str, tupla_float)"
   ]
  },
  {
   "cell_type": "code",
   "execution_count": 15,
   "metadata": {},
   "outputs": [
    {
     "name": "stdout",
     "output_type": "stream",
     "text": [
      "[1, 2, 3, 4] [1, 4, 9, 16]\n"
     ]
    }
   ],
   "source": [
    "def quadrado(x):\n",
    "    return x ** 2\n",
    "numeros = [1, 2, 3, 4]\n",
    "numeros_quadrados = list(map(quadrado, numeros)) # função: quadrado; coleção: numeros\n",
    "print(numeros, numeros_quadrados)"
   ]
  },
  {
   "cell_type": "code",
   "execution_count": 16,
   "metadata": {},
   "outputs": [
    {
     "name": "stdout",
     "output_type": "stream",
     "text": [
      "[1, 2, 3, 4] [1, 8, 27, 64]\n"
     ]
    }
   ],
   "source": [
    "numeros = [1, 2, 3, 4]\n",
    "numeros_cubo = list(map(lambda x: x**3, numeros))\n",
    "print(numeros, numeros_cubo)"
   ]
  },
  {
   "cell_type": "markdown",
   "metadata": {},
   "source": [
    "# Filter\n",
    "A função filter também recebe uma função que deve retornar um booleano e uma coleção. Ela irá conter apenas os elementos da coleção que provocaram valor True na função passada."
   ]
  },
  {
   "cell_type": "code",
   "execution_count": 17,
   "metadata": {},
   "outputs": [
    {
     "name": "stdout",
     "output_type": "stream",
     "text": [
      "[6, 4, 8, 2]\n"
     ]
    }
   ],
   "source": [
    "def eh_par(x):\n",
    "    return x % 2 == 0\n",
    "\n",
    "numeros = [3, 6, 4, 8, 7, 9, 2, 5]\n",
    "\n",
    "pares = list(filter(eh_par, numeros)) # função: eh_par; coleção: numeros\n",
    "\n",
    "print(pares)"
   ]
  },
  {
   "cell_type": "code",
   "execution_count": 18,
   "metadata": {},
   "outputs": [
    {
     "name": "stdout",
     "output_type": "stream",
     "text": [
      "[6, 4, 8, 2]\n"
     ]
    }
   ],
   "source": [
    "numeros = [3, 6, 4, 8, 7, 9, 2, 5]\n",
    "\n",
    "pares = list(filter(lambda x: x % 2 == 0, numeros)) # função: eh_par; coleção: numeros\n",
    "\n",
    "print(pares)"
   ]
  },
  {
   "cell_type": "markdown",
   "metadata": {},
   "source": [
    "# Reduce\n",
    "\n",
    "A última função envolvendo coleções que estudaremos é o reduce. Além da função e da coleção, ele receberá também um valor inicial. Ele irá aplicar a função entre o valor inicial e o primeiro valor da coleção. Em seguida, entre o resultado dessa operação e o segundo valor da coleção. Depois, entre o resultado desta operação e o terceiro valor da coleção, e assim sucessivamente. Ou seja, ele acumula uma operação ao longo de uma coleção. O exemplo mais tradicional é o somatório.\n",
    "\n",
    "Se você possui uma lista contendo os valores [1, 3, 5, 7, 9] e utilizar o reduce com valor inicial 0, ele retornará o resultado de:\n",
    "\n",
    "(((((0 + 1) + 3) + 5) + 7) + 9)\n",
    "\n",
    "No Python, o reduce não é uma função nativa como o map e o filter, e devemos importá-la de functools."
   ]
  },
  {
   "cell_type": "code",
   "execution_count": 19,
   "metadata": {},
   "outputs": [
    {
     "name": "stdout",
     "output_type": "stream",
     "text": [
      "25\n",
      "30\n"
     ]
    }
   ],
   "source": [
    "from functools import reduce\n",
    "\n",
    "lista = [1, 3, 5, 7, 9]\n",
    "\n",
    "somatorio = reduce(lambda x, y: x + y, lista, 0) # função: o lambda criado; coleção: lista; valor inicial: 0\n",
    "\n",
    "print(somatorio)\n",
    "\n",
    "# colocando valor inicial 5\n",
    "\n",
    "somatorio_inicial = reduce(lambda x, y: x + y, lista, 5)\n",
    "print(somatorio_inicial)"
   ]
  },
  {
   "cell_type": "code",
   "execution_count": 23,
   "metadata": {},
   "outputs": [
    {
     "name": "stdout",
     "output_type": "stream",
     "text": [
      "945000\n"
     ]
    }
   ],
   "source": [
    "somatorio_inicial = reduce(lambda x, y: x * y, lista, 1000)\n",
    "print(somatorio_inicial)"
   ]
  },
  {
   "cell_type": "markdown",
   "metadata": {},
   "source": [
    "# Arquivos"
   ]
  },
  {
   "cell_type": "code",
   "execution_count": 33,
   "metadata": {},
   "outputs": [
    {
     "name": "stdout",
     "output_type": "stream",
     "text": [
      "<class 'str'>\n"
     ]
    }
   ],
   "source": [
    "nome_arquivo = 'professores.json'\n",
    "# Abre o arquivo em modo de leitura\n",
    "arquivo = open(nome_arquivo, 'rb')\n",
    "\n",
    "# Lê todo o conteúdo do arquivo\n",
    "conteudo = arquivo.read().decode('utf-8')\n",
    "\n",
    "# Fecha o arquivo\n",
    "arquivo.close()\n",
    "\n",
    "# Mostra o conteúdo lido\n",
    "print(type(conteudo))"
   ]
  },
  {
   "cell_type": "code",
   "execution_count": 38,
   "metadata": {},
   "outputs": [
    {
     "name": "stdout",
     "output_type": "stream",
     "text": [
      "[\n",
      "  {\n",
      "    \"nome\": \"Professor1\",\n",
      "    \"idade\": 35,\n",
      "    \"sexo\": \"Masculino\",\n",
      "    \"altura\": 1.75,\n",
      "    \"disciplina\": \"Matem\\u00e1tica\"\n",
      "  },\n",
      "  {\n",
      "    \"nome\": \"Professor2\",\n",
      "    \"idade\": 42,\n",
      "    \"sexo\": \"Feminino\",\n",
      "    \"altura\": 1.68,\n",
      "    \"disciplina\": \"Hist\\u00f3ria\"\n",
      "  },\n",
      "  {\n",
      "    \"nome\": \"Professor3\",\n",
      "    \"idade\": 38,\n",
      "    \"sexo\": \"Masculino\",\n",
      "    \"altura\": 1.8,\n",
      "    \"disciplina\": \"Ci\\u00eancias\"\n",
      "  },\n",
      "  {\n",
      "    \"nome\": \"Professor4\",\n",
      "    \"idade\": 29,\n",
      "    \"sexo\": \"Feminino\",\n",
      "    \"altura\": 1.65,\n",
      "    \"disciplina\": \"Ingl\\u00eas\"\n",
      "  },\n",
      "  {\n",
      "    \"nome\": \"Professor5\",\n",
      "    \"idade\": 45,\n",
      "    \"sexo\": \"Masculino\",\n",
      "    \"altura\": 1.72,\n",
      "    \"disciplina\": \"Educa\\u00e7\\u00e3o F\\u00edsica\"\n",
      "  }\n",
      "]\n"
     ]
    }
   ],
   "source": [
    "print(conteudo)"
   ]
  },
  {
   "cell_type": "code",
   "execution_count": 36,
   "metadata": {},
   "outputs": [
    {
     "data": {
      "text/plain": [
       "dict"
      ]
     },
     "execution_count": 36,
     "metadata": {},
     "output_type": "execute_result"
    }
   ],
   "source": [
    "import json\n",
    "\n",
    "\n",
    "type(json.loads(conteudo)[0])"
   ]
  },
  {
   "cell_type": "code",
   "execution_count": 1,
   "metadata": {},
   "outputs": [
    {
     "name": "stdout",
     "output_type": "stream",
     "text": [
      "Arquivo 'professores.json' criado com sucesso.\n"
     ]
    }
   ],
   "source": [
    "import json\n",
    "\n",
    "# Lista de professores\n",
    "professores = [\n",
    "    {\"nome\": \"Professor1\", \"idade\": 35, \"sexo\": \"Masculino\", \"altura\": 1.75, \"disciplina\": \"Matemática\"},\n",
    "    {\"nome\": \"Professor2\", \"idade\": 42, \"sexo\": \"Feminino\", \"altura\": 1.68, \"disciplina\": \"História\"},\n",
    "    {\"nome\": \"Professor3\", \"idade\": 38, \"sexo\": \"Masculino\", \"altura\": 1.80, \"disciplina\": \"Ciências\"},\n",
    "    {\"nome\": \"Professor4\", \"idade\": 29, \"sexo\": \"Feminino\", \"altura\": 1.65, \"disciplina\": \"Inglês\"},\n",
    "    {\"nome\": \"Professor5\", \"idade\": 45, \"sexo\": \"Masculino\", \"altura\": 1.72, \"disciplina\": \"Educação Física\"}\n",
    "]\n",
    "\n",
    "# Salvar em um arquivo JSON\n",
    "with open('professores.json', 'w') as json_file:\n",
    "    json.dump(professores, json_file, indent=2)\n",
    "\n",
    "print(\"Arquivo 'professores.json' criado com sucesso.\")"
   ]
  }
 ],
 "metadata": {
  "kernelspec": {
   "display_name": "Python 3",
   "language": "python",
   "name": "python3"
  },
  "language_info": {
   "codemirror_mode": {
    "name": "ipython",
    "version": 3
   },
   "file_extension": ".py",
   "mimetype": "text/x-python",
   "name": "python",
   "nbconvert_exporter": "python",
   "pygments_lexer": "ipython3",
   "version": "3.11.4"
  }
 },
 "nbformat": 4,
 "nbformat_minor": 2
}
