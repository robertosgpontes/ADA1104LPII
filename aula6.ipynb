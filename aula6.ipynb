{
 "cells": [
  {
   "cell_type": "markdown",
   "metadata": {},
   "source": [
    "# Arquivos"
   ]
  },
  {
   "cell_type": "markdown",
   "metadata": {},
   "source": [
    "| Modo   | Símbolo | Descrição                                                                                                                             | \n",
    "|--------|---------|---------------------------------------------------------------------------------------------------------------------------------------| \n",
    "| read   | r       | lê um arquivo existente                                                                                                               | \n",
    "| write  | w       | cria um novo arquivo                                                                                                                  | \n",
    "| append | a       | abre um arquivo existente para adicionar informações ao seu final                                                                     |\n",
    "| update | +       | ao ser combinado com outros modos, permite alteração de arquivo já existente (ex: r+ abre um arquivo existente e permite modificá-lo) |"
   ]
  },
  {
   "cell_type": "code",
   "execution_count": 1,
   "metadata": {},
   "outputs": [],
   "source": [
    "arquivo = open('ola.txt', 'w') # cria um arquivo ola.txt"
   ]
  },
  {
   "cell_type": "code",
   "execution_count": 2,
   "metadata": {},
   "outputs": [
    {
     "data": {
      "text/plain": [
       "_io.TextIOWrapper"
      ]
     },
     "execution_count": 2,
     "metadata": {},
     "output_type": "execute_result"
    }
   ],
   "source": [
    "type(arquivo)"
   ]
  },
  {
   "cell_type": "code",
   "execution_count": 3,
   "metadata": {},
   "outputs": [
    {
     "data": {
      "text/plain": [
       "9"
      ]
     },
     "execution_count": 3,
     "metadata": {},
     "output_type": "execute_result"
    }
   ],
   "source": [
    "arquivo.write('Olá mundo') # escreve \"Olá mundo\" no arquivo"
   ]
  },
  {
   "cell_type": "code",
   "execution_count": 4,
   "metadata": {},
   "outputs": [],
   "source": [
    "arquivo.close() # fecha e salva o arquivo"
   ]
  },
  {
   "cell_type": "code",
   "execution_count": 5,
   "metadata": {},
   "outputs": [
    {
     "name": "stdout",
     "output_type": "stream",
     "text": [
      "Olã¡ Mundo,\n",
      "\n",
      "Esta Ã© A Mensagem Do Roberto.\n"
     ]
    }
   ],
   "source": [
    "with open('ola.txt', 'r') as arquivo:\n",
    "    conteudo = arquivo.read()\n",
    "    print(conteudo.title())\n",
    "\n"
   ]
  },
  {
   "cell_type": "code",
   "execution_count": 6,
   "metadata": {},
   "outputs": [
    {
     "name": "stdout",
     "output_type": "stream",
     "text": [
      "Olá Mundo,\n",
      "\n",
      "Esta É A Mensagem Do Roberto.\n"
     ]
    }
   ],
   "source": [
    "with open('ola.txt', 'rb') as arquivo:\n",
    "    conteudo = arquivo.read()\n",
    "    print(conteudo.decode('utf-8').title())"
   ]
  },
  {
   "cell_type": "code",
   "execution_count": 9,
   "metadata": {},
   "outputs": [
    {
     "ename": "ValueError",
     "evalue": "read of closed file",
     "output_type": "error",
     "traceback": [
      "\u001b[1;31m---------------------------------------------------------------------------\u001b[0m",
      "\u001b[1;31mValueError\u001b[0m                                Traceback (most recent call last)",
      "\u001b[1;32mc:\\Users\\rober\\source\\ADA1104LPII\\aula6.ipynb Cell 9\u001b[0m line \u001b[0;36m2\n\u001b[0;32m      <a href='vscode-notebook-cell:/c%3A/Users/rober/source/ADA1104LPII/aula6.ipynb#X30sZmlsZQ%3D%3D?line=0'>1</a>\u001b[0m \u001b[39m# note que a linha abaixo gera um erro:\u001b[39;00m\n\u001b[1;32m----> <a href='vscode-notebook-cell:/c%3A/Users/rober/source/ADA1104LPII/aula6.ipynb#X30sZmlsZQ%3D%3D?line=1'>2</a>\u001b[0m conteudo2 \u001b[39m=\u001b[39m arquivo\u001b[39m.\u001b[39;49mread()\n\u001b[0;32m      <a href='vscode-notebook-cell:/c%3A/Users/rober/source/ADA1104LPII/aula6.ipynb#X30sZmlsZQ%3D%3D?line=3'>4</a>\u001b[0m \u001b[39m# O erro é: \u001b[39;00m\n\u001b[0;32m      <a href='vscode-notebook-cell:/c%3A/Users/rober/source/ADA1104LPII/aula6.ipynb#X30sZmlsZQ%3D%3D?line=4'>5</a>\u001b[0m \u001b[39m# ValueError: I/O operation on closed file. -> Operação de entrada/saída em arquivo fechado\u001b[39;00m\n",
      "\u001b[1;31mValueError\u001b[0m: read of closed file"
     ]
    }
   ],
   "source": [
    "# note que a linha abaixo gera um erro:\n",
    "conteudo2 = arquivo.read()\n",
    "\n",
    "# O erro é: \n",
    "# ValueError: I/O operation on closed file. -> Operação de entrada/saída em arquivo fechado"
   ]
  },
  {
   "cell_type": "code",
   "execution_count": 10,
   "metadata": {},
   "outputs": [
    {
     "name": "stdout",
     "output_type": "stream",
     "text": [
      "Olá Mundo,\n",
      "\n",
      "Esta É A Mensagem Do Roberto.\n"
     ]
    }
   ],
   "source": [
    "arquivo = open('ola.txt', 'rb')\n",
    "conteudo = arquivo.read()\n",
    "arquivo.close()\n",
    "print(conteudo.decode('utf-8').title())"
   ]
  },
  {
   "cell_type": "markdown",
   "metadata": {},
   "source": [
    "## Escrevendo arquivos CSV"
   ]
  },
  {
   "cell_type": "code",
   "execution_count": 37,
   "metadata": {},
   "outputs": [],
   "source": [
    "header = [['Aluno', 'Nota 1', 'Nota 2', 'Presenças']]\n",
    "data = [['Luke', 7, 9, 15],\n",
    "          ['Han', 4, 7, 10],\n",
    "          ['Leia', 9, 9, 16]]"
   ]
  },
  {
   "cell_type": "code",
   "execution_count": 38,
   "metadata": {},
   "outputs": [],
   "source": [
    "import csv\n",
    "\n",
    "# cria o arquivo CSV\n",
    "arquivo = open('alunos.csv', 'w')\n",
    "\n",
    "# definindo as regras do nosso CSV:\n",
    "# ele será escrito no arquivo apontado pela variável 'arquivo'\n",
    "# seus elementos serão delimitados (delimiter) pelo símbolo ';'\n",
    "# suas linhas serão encerradas (lineterminator) por uma quebra de linha\n",
    "escritor = csv.writer(arquivo, delimiter=';', lineterminator='\\n')"
   ]
  },
  {
   "cell_type": "code",
   "execution_count": 39,
   "metadata": {},
   "outputs": [],
   "source": [
    "# escreve uma lista de listas em formato CSV:\n",
    "escritor.writerows(header+data)"
   ]
  },
  {
   "cell_type": "code",
   "execution_count": 40,
   "metadata": {},
   "outputs": [],
   "source": [
    "# fecha e salva o arquivo\n",
    "arquivo.close()"
   ]
  },
  {
   "cell_type": "markdown",
   "metadata": {},
   "source": [
    "## Lendo Arquivos CSV"
   ]
  },
  {
   "cell_type": "code",
   "execution_count": 41,
   "metadata": {},
   "outputs": [
    {
     "name": "stdout",
     "output_type": "stream",
     "text": [
      "['Aluno', 'Nota 1', 'Nota 2', 'Presenças']\n",
      "['Luke', '7', '9', '15']\n",
      "['Han', '4', '7', '10']\n",
      "['Leia', '9', '9', '16']\n"
     ]
    }
   ],
   "source": [
    "import csv\n",
    "\n",
    "arquivo = open('alunos.csv', 'r')\n",
    "\n",
    "planilha = csv.reader(arquivo, delimiter=';', lineterminator='\\n')\n",
    "\n",
    "for linha in planilha:\n",
    "    print(linha)\n",
    "\n",
    "arquivo.close()"
   ]
  },
  {
   "cell_type": "code",
   "execution_count": 42,
   "metadata": {},
   "outputs": [
    {
     "data": {
      "text/plain": [
       "_csv.reader"
      ]
     },
     "execution_count": 42,
     "metadata": {},
     "output_type": "execute_result"
    }
   ],
   "source": [
    "type(planilha)"
   ]
  },
  {
   "cell_type": "markdown",
   "metadata": {},
   "source": [
    "## Escrevendo Arquivos JSON"
   ]
  },
  {
   "cell_type": "code",
   "execution_count": 43,
   "metadata": {},
   "outputs": [
    {
     "name": "stdout",
     "output_type": "stream",
     "text": [
      "Mario\n",
      "0\n"
     ]
    }
   ],
   "source": [
    "import json\n",
    "\n",
    "jogador = '{\"nome\":\"Mario\",\"pontuacao\":0}'\n",
    "\n",
    "dicionario = json.loads(jogador)\n",
    "\n",
    "print(dicionario['nome'])\n",
    "print(dicionario['pontuacao'])"
   ]
  },
  {
   "cell_type": "markdown",
   "metadata": {},
   "source": [
    "## Lendo Arquivos JSON"
   ]
  },
  {
   "cell_type": "code",
   "execution_count": 44,
   "metadata": {},
   "outputs": [
    {
     "name": "stdout",
     "output_type": "stream",
     "text": [
      "{\"nome\": \"Mario\", \"pontuacao\": 0}\n"
     ]
    }
   ],
   "source": [
    "import json\n",
    "\n",
    "jogador = dict()\n",
    "jogador['nome']  = 'Mario'\n",
    "jogador['pontuacao'] = 0\n",
    "\n",
    "string_json = json.dumps(jogador)\n",
    "\n",
    "print(string_json)"
   ]
  },
  {
   "cell_type": "code",
   "execution_count": 46,
   "metadata": {},
   "outputs": [
    {
     "name": "stdout",
     "output_type": "stream",
     "text": [
      "<class 'dict'>\n"
     ]
    }
   ],
   "source": [
    "print(type(jogador))"
   ]
  },
  {
   "cell_type": "code",
   "execution_count": 45,
   "metadata": {},
   "outputs": [
    {
     "name": "stdout",
     "output_type": "stream",
     "text": [
      "<class 'str'>\n"
     ]
    }
   ],
   "source": [
    "print(type(string_json))"
   ]
  },
  {
   "cell_type": "markdown",
   "metadata": {},
   "source": [
    "# Tratamento de Exceções"
   ]
  },
  {
   "cell_type": "code",
   "execution_count": null,
   "metadata": {},
   "outputs": [],
   "source": [
    "numerador = 1\n",
    "\n",
    "for denominador in range(3, -1, -1):\n",
    "    try:\n",
    "        divisao = numerador/denominador\n",
    "        print('Deu certo!') # roda APENAS se a linha acima não gerar exceção\n",
    "\n",
    "    except:\n",
    "        divisao = 'infinito'\n",
    "    \n",
    "    print(f'{numerador}/{denominador} = {divisao}')"
   ]
  },
  {
   "cell_type": "code",
   "execution_count": 47,
   "metadata": {},
   "outputs": [
    {
     "name": "stdout",
     "output_type": "stream",
     "text": [
      "1/0 = infinito\n",
      "1/2 = 0.5\n",
      "1/3 = 0.3333333333333333\n",
      "1/a = 1/a\n",
      "1/5 = 0.2\n"
     ]
    }
   ],
   "source": [
    "def divisao(a, b):\n",
    "    return a/b\n",
    "\n",
    "denominadores = [0, 2, 3, 'a', 5]\n",
    "\n",
    "for d in denominadores:\n",
    "    try:\n",
    "        div = divisao(1, d)\n",
    "        \n",
    "    except ZeroDivisionError:\n",
    "        div = 'infinito'\n",
    "        \n",
    "    except TypeError:        \n",
    "        div = f'1/{d}'\n",
    "        \n",
    "    except:\n",
    "        div = 'erro desconhecido'\n",
    "    \n",
    "    print(f'1/{d} = {div}')"
   ]
  },
  {
   "cell_type": "code",
   "execution_count": 48,
   "metadata": {},
   "outputs": [
    {
     "name": "stdout",
     "output_type": "stream",
     "text": [
      "infinito\n",
      "1/2 = 0.5\n",
      "1/3 = 0.3333333333333333\n",
      "1/a\n",
      "1/5 = 0.2\n"
     ]
    }
   ],
   "source": [
    "def divisao(a, b):\n",
    "    return a/b\n",
    "\n",
    "denominadores = [0, 2, 3, 'a', 5]\n",
    "\n",
    "for d in denominadores:\n",
    "    try:\n",
    "        div = divisao(1, d)\n",
    "        \n",
    "    except ZeroDivisionError:\n",
    "        print('infinito')\n",
    "        \n",
    "    except TypeError:        \n",
    "        print(f'1/{d}')\n",
    "        \n",
    "    except:\n",
    "        print('erro desconhecido')\n",
    "        \n",
    "    else:\n",
    "        print(f'1/{d} = {div}')"
   ]
  },
  {
   "cell_type": "code",
   "execution_count": 49,
   "metadata": {},
   "outputs": [
    {
     "name": "stdout",
     "output_type": "stream",
     "text": [
      "Opa\n",
      "1.0\n",
      "Opa\n",
      "infinito\n"
     ]
    }
   ],
   "source": [
    "def teste(den):\n",
    "    try:\n",
    "        x = 1/den\n",
    "        return x\n",
    "    except:\n",
    "        return 'infinito'\n",
    "    finally:\n",
    "        print('Opa')\n",
    "\n",
    "print(teste(1))\n",
    "print(teste(0))"
   ]
  },
  {
   "cell_type": "code",
   "execution_count": 51,
   "metadata": {},
   "outputs": [
    {
     "name": "stdout",
     "output_type": "stream",
     "text": [
      "Salário inválido! Salários devem ser positivos!\n"
     ]
    },
    {
     "ename": "ValueError",
     "evalue": "could not convert string to float: '0,0'",
     "output_type": "error",
     "traceback": [
      "\u001b[1;31m---------------------------------------------------------------------------\u001b[0m",
      "\u001b[1;31mValueError\u001b[0m                                Traceback (most recent call last)",
      "\u001b[1;32mc:\\Users\\rober\\source\\ADA1104LPII\\aula6.ipynb Cell 30\u001b[0m line \u001b[0;36m1\n\u001b[0;32m      <a href='vscode-notebook-cell:/c%3A/Users/rober/source/ADA1104LPII/aula6.ipynb#X23sZmlsZQ%3D%3D?line=6'>7</a>\u001b[0m     salarios\u001b[39m.\u001b[39mappend(salario)\n\u001b[0;32m      <a href='vscode-notebook-cell:/c%3A/Users/rober/source/ADA1104LPII/aula6.ipynb#X23sZmlsZQ%3D%3D?line=8'>9</a>\u001b[0m \u001b[39mfor\u001b[39;00m i \u001b[39min\u001b[39;00m \u001b[39mrange\u001b[39m(\u001b[39m3\u001b[39m):\n\u001b[1;32m---> <a href='vscode-notebook-cell:/c%3A/Users/rober/source/ADA1104LPII/aula6.ipynb#X23sZmlsZQ%3D%3D?line=9'>10</a>\u001b[0m     salario \u001b[39m=\u001b[39m \u001b[39mfloat\u001b[39;49m(\u001b[39minput\u001b[39;49m(\u001b[39m'\u001b[39;49m\u001b[39mDigite o salário do funcionário: \u001b[39;49m\u001b[39m'\u001b[39;49m))\n\u001b[0;32m     <a href='vscode-notebook-cell:/c%3A/Users/rober/source/ADA1104LPII/aula6.ipynb#X23sZmlsZQ%3D%3D?line=11'>12</a>\u001b[0m     \u001b[39mtry\u001b[39;00m:\n\u001b[0;32m     <a href='vscode-notebook-cell:/c%3A/Users/rober/source/ADA1104LPII/aula6.ipynb#X23sZmlsZQ%3D%3D?line=12'>13</a>\u001b[0m         cadastrar_salario(salario)\n",
      "\u001b[1;31mValueError\u001b[0m: could not convert string to float: '0,0'"
     ]
    }
   ],
   "source": [
    "salarios = []\n",
    "\n",
    "def cadastrar_salario(salario):\n",
    "    if salario <= 0:\n",
    "        raise AssertionError('Salário inválido! Salários devem ser positivos!')\n",
    "    \n",
    "    salarios.append(salario)\n",
    "    \n",
    "for i in range(3):\n",
    "    salario = float(input('Digite o salário do funcionário: '))\n",
    "    \n",
    "    try:\n",
    "        cadastrar_salario(salario)\n",
    "    except AssertionError as mensagem:\n",
    "        print(mensagem)\n",
    "        \n",
    "print(salarios)"
   ]
  }
 ],
 "metadata": {
  "kernelspec": {
   "display_name": "Python 3",
   "language": "python",
   "name": "python3"
  },
  "language_info": {
   "codemirror_mode": {
    "name": "ipython",
    "version": 3
   },
   "file_extension": ".py",
   "mimetype": "text/x-python",
   "name": "python",
   "nbconvert_exporter": "python",
   "pygments_lexer": "ipython3",
   "version": "3.11.4"
  }
 },
 "nbformat": 4,
 "nbformat_minor": 2
}
