{
 "cells": [
  {
   "cell_type": "code",
   "execution_count": 1,
   "metadata": {},
   "outputs": [],
   "source": [
    "from funcoes import valida_opcoes, obter_opcoes"
   ]
  },
  {
   "cell_type": "code",
   "execution_count": 5,
   "metadata": {},
   "outputs": [],
   "source": [
    "import json"
   ]
  },
  {
   "cell_type": "code",
   "execution_count": 28,
   "metadata": {},
   "outputs": [],
   "source": [
    "def carrega_dados(path:str = 'professores.json') -> list[dict]:\n",
    "    try:\n",
    "        with open(path, 'r') as arquivo:\n",
    "            dados = arquivo.read()\n",
    "            return json.loads(dados)\n",
    "    except FileNotFoundError:\n",
    "        return []\n",
    "    \n",
    "def salvar_dados(dados:list[dict], path:str = 'professores.json') -> bool:\n",
    "    try:\n",
    "        with open(path, 'w') as arquivo:\n",
    "            arquivo.write(json.dumps(dados))\n",
    "            return True\n",
    "    except Exception:\n",
    "        return False\n",
    "    \n",
    "def formata_dados_professor(prof: dict) -> str:\n",
    "    return '\\n'.join([f'{key.title()}: {value}' for key, value in prof.items()])\n",
    "\n",
    "def formata_dados_todos_professores(profs: list[dict]) -> str:\n",
    "    return '\\n\\n'.join(list(map(formata_dados_professor, profs)))\n"
   ]
  },
  {
   "cell_type": "code",
   "execution_count": 29,
   "metadata": {},
   "outputs": [
    {
     "name": "stdout",
     "output_type": "stream",
     "text": [
      "Nome : Roberto\n",
      "Idade : 35\n",
      "Sexo : Masculino\n",
      "Altura : 1.75\n",
      "Disciplina : Matemática\n",
      "\n",
      "Nome : Professor2\n",
      "Idade : 42\n",
      "Sexo : Feminino\n",
      "Altura : 1.68\n",
      "Disciplina : História\n",
      "\n",
      "Nome : Professor3\n",
      "Idade : 38\n",
      "Sexo : Masculino\n",
      "Altura : 1.8\n",
      "Disciplina : Ciências\n",
      "\n",
      "Nome : Professor4\n",
      "Idade : 29\n",
      "Sexo : Feminino\n",
      "Altura : 1.65\n",
      "Disciplina : Inglês\n",
      "\n",
      "Nome : Professor5\n",
      "Idade : 45\n",
      "Sexo : Masculino\n",
      "Altura : 1.72\n",
      "Disciplina : Educação Física\n"
     ]
    }
   ],
   "source": [
    "print(formata_dados_todos_professores(dados))"
   ]
  },
  {
   "cell_type": "markdown",
   "metadata": {},
   "source": [
    "{'nome': 'Roberto',\n",
    "  'idade': 35,\n",
    "  'sexo': 'Masculino',\n",
    "  'altura': 1.75,\n",
    "  'disciplina': 'Matemática'}"
   ]
  },
  {
   "cell_type": "code",
   "execution_count": 19,
   "metadata": {},
   "outputs": [
    {
     "data": {
      "text/plain": [
       "[{'nome': 'Roberto',\n",
       "  'idade': 35,\n",
       "  'sexo': 'Masculino',\n",
       "  'altura': 1.75,\n",
       "  'disciplina': 'Matemática'},\n",
       " {'nome': 'Professor2',\n",
       "  'idade': 42,\n",
       "  'sexo': 'Feminino',\n",
       "  'altura': 1.68,\n",
       "  'disciplina': 'História'},\n",
       " {'nome': 'Professor3',\n",
       "  'idade': 38,\n",
       "  'sexo': 'Masculino',\n",
       "  'altura': 1.8,\n",
       "  'disciplina': 'Ciências'},\n",
       " {'nome': 'Professor4',\n",
       "  'idade': 29,\n",
       "  'sexo': 'Feminino',\n",
       "  'altura': 1.65,\n",
       "  'disciplina': 'Inglês'},\n",
       " {'nome': 'Professor5',\n",
       "  'idade': 45,\n",
       "  'sexo': 'Masculino',\n",
       "  'altura': 1.72,\n",
       "  'disciplina': 'Educação Física'}]"
      ]
     },
     "execution_count": 19,
     "metadata": {},
     "output_type": "execute_result"
    }
   ],
   "source": [
    "dados"
   ]
  },
  {
   "cell_type": "code",
   "execution_count": 13,
   "metadata": {},
   "outputs": [],
   "source": [
    "dados = carrega_dados()"
   ]
  },
  {
   "cell_type": "code",
   "execution_count": 18,
   "metadata": {},
   "outputs": [
    {
     "data": {
      "text/plain": [
       "[{'nome': 'Roberto',\n",
       "  'idade': 35,\n",
       "  'sexo': 'Masculino',\n",
       "  'altura': 1.75,\n",
       "  'disciplina': 'Matemática'},\n",
       " {'nome': 'Professor2',\n",
       "  'idade': 42,\n",
       "  'sexo': 'Feminino',\n",
       "  'altura': 1.68,\n",
       "  'disciplina': 'História'},\n",
       " {'nome': 'Professor3',\n",
       "  'idade': 38,\n",
       "  'sexo': 'Masculino',\n",
       "  'altura': 1.8,\n",
       "  'disciplina': 'Ciências'},\n",
       " {'nome': 'Professor4',\n",
       "  'idade': 29,\n",
       "  'sexo': 'Feminino',\n",
       "  'altura': 1.65,\n",
       "  'disciplina': 'Inglês'},\n",
       " {'nome': 'Professor5',\n",
       "  'idade': 45,\n",
       "  'sexo': 'Masculino',\n",
       "  'altura': 1.72,\n",
       "  'disciplina': 'Educação Física'}]"
      ]
     },
     "execution_count": 18,
     "metadata": {},
     "output_type": "execute_result"
    }
   ],
   "source": [
    "dados"
   ]
  },
  {
   "cell_type": "code",
   "execution_count": null,
   "metadata": {},
   "outputs": [],
   "source": [
    "#TODO: Criar uma Função Pura\n",
    "\n",
    "def inserir_novo(profs: list[dict], **kwargs) -> None:\n",
    "    profs.append(kwargs)\n",
    "    "
   ]
  },
  {
   "cell_type": "code",
   "execution_count": 3,
   "metadata": {},
   "outputs": [],
   "source": [
    "opc = {\n",
    "    'I': 'Inserir', #salvando dados \n",
    "    'ET': 'Exibir Todos'\n",
    "}"
   ]
  },
  {
   "cell_type": "code",
   "execution_count": 4,
   "metadata": {},
   "outputs": [
    {
     "data": {
      "text/plain": [
       "'I'"
      ]
     },
     "execution_count": 4,
     "metadata": {},
     "output_type": "execute_result"
    }
   ],
   "source": [
    "obter_opcoes(opc, 'Escolha uma ação')"
   ]
  },
  {
   "cell_type": "code",
   "execution_count": null,
   "metadata": {},
   "outputs": [],
   "source": [
    "while True:\n",
    "    \n",
    "    \n",
    "    \n",
    "        \n",
    "    if obter_opcoes({'S': 'Sim', 'N': 'Não'}, 'Deseja Sair') == 'S':\n",
    "        break"
   ]
  }
 ],
 "metadata": {
  "kernelspec": {
   "display_name": "Python 3",
   "language": "python",
   "name": "python3"
  },
  "language_info": {
   "codemirror_mode": {
    "name": "ipython",
    "version": 3
   },
   "file_extension": ".py",
   "mimetype": "text/x-python",
   "name": "python",
   "nbconvert_exporter": "python",
   "pygments_lexer": "ipython3",
   "version": "3.11.4"
  }
 },
 "nbformat": 4,
 "nbformat_minor": 2
}
